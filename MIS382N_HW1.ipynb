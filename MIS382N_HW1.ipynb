{
  "nbformat": 4,
  "nbformat_minor": 0,
  "metadata": {
    "colab": {
      "name": "MIS_382N_HW1-2.ipynb",
      "provenance": [],
      "collapsed_sections": [
        "-O6v8tyncNWn",
        "7q-gFWztHvHB",
        "G8vOG8RUOqBB",
        "_7gYiZgcOwJM",
        "StybMnMvNu7S",
        "7bNNTyqDRAZR",
        "VZWV3TDbVodm",
        "rEASrtjcVuya",
        "VhEnOiaD7ZVd",
        "JwJ_Zl1Y3RgP",
        "cQJKpKo_3RgU"
      ]
    },
    "kernelspec": {
      "display_name": "Python 3",
      "language": "python",
      "name": "python3"
    },
    "language_info": {
      "codemirror_mode": {
        "name": "ipython",
        "version": 3
      },
      "file_extension": ".py",
      "mimetype": "text/x-python",
      "name": "python",
      "nbconvert_exporter": "python",
      "pygments_lexer": "ipython3",
      "version": "3.8.8"
    }
  },
  "cells": [
    {
      "cell_type": "markdown",
      "metadata": {
        "id": "evHVxwk2JA-3"
      },
      "source": [
        "# **Emilio Cabrera (eac4622)** \n",
        "\n",
        "# **Garrett Sooter (gas3254)** \n",
        "\n",
        "# <p style=\"text-align: center;\">MIS 382N: Advanced Machine Learning</p>\n",
        "# <p style=\"text-align: center;\">Homework 1</p>\n",
        "## <p style=\"text-align: center;\">Total points: 55</p>\n",
        "## <p style=\"text-align: center;\">Due: Friday, Sep 10 submitted via Canvas by 11:59 pm</p>\n",
        "\n",
        "Your homework should be written in a **Jupyter notebook**. Please make sure your code runs and the graphics (and anything else) are displayed in your notebook before submitting (%matplotlib inline). **This can be an individual assignment or group of 2. If you choose to do it as a group, please specify who you are working with (name and EID), then only one student should submit the homework.**\n",
        "\n",
        "**Note: Notebooks MUST have the images embedded in them. There will be no regrades if attached images do not render in the notebook. Please re download from canvas after submission and make sure all attached images render without errors. (Hint: Image module from IPython.display)**"
      ]
    },
    {
      "cell_type": "markdown",
      "metadata": {
        "id": "TWWU_gOSLEEv"
      },
      "source": [
        "# Question 1: MLOps (10 pts)\n",
        "Read this [article](https://towardsdatascience.com/what-is-mlops-everything-you-must-know-to-get-started-523f2d0b8bd8) \"What is MLOps — Everything You Must Know to Get Started\", which gives a quick walkthrough of the machine learning development lifecycle and explains how MLOps come into play, or watch this [video](https://www.youtube.com/watch?v=06-AZXmwHjo) which you may find interesting.\n",
        "\n",
        "1. (**4 pts**) Use your own words to describe what MLOps is, and what challenges MLOps address. Limit your answer to one paragraph.\n",
        "\n",
        "2. (**6 pts**) Describe what the main phases in MLOps are. Your answer should be 2-3 paragraphs.\n",
        "\n",
        "\n",
        "## Answer: \n",
        "1. MLOps brings together the development and deployment of ML models in order to streamline the process of the deployment of the new technology. MLOps solves the probelm of the exponentially increasing amount of data and ML models we use everyday. This allows for a unifor deployment of models over massive data sets in an organization with many goals. This can help orginization decision models and the inplementation of ML and AI across the buisness world. \n",
        "\n",
        "\n",
        "2. The first stage is to define a problem, ideally one that has measurable preformance metrics. The first thing to do is find a probelm you would like to address and find how to determine the success of the problem. The next thing to do it to find the appropriate data that is relevant to your situation. This can be tricky especially for a new project with no purpose collected data. You need to start by finding reliable measures wich included an intuitive understanding of the problem and the relevent inputs. You then need to make sure that the data is credible and accurate, it also must be compliant with all regulations. Next you need to make sure your program can access the data and how you want it to enter the model, statically, or with new additions periodicly. Next you need to determine how to manage your test and training data. Finally you will need to make sure you have a cloud server or database you can work with. \n",
        "\n",
        "    Next is the time consuming part which is where you clean and process the data. With huge amounts and multiple collection sources you are likely to find inconsistancies and you need to make it computed readable. This is also where you need to rescale the data and test for anamolies like outliers. Then you need to automate this piece for all the future uses of the data so you do not need to go over it everytime new data comes in. You will need to make sure this system is fast and doesnt cost to much computer power. You can then test these at a smaller scale before true deployment. Next is the actuall ML part, wher eyou need to train a new ML model that actually does the analysis. You can then test the accuracy of this model through many different analytical method like accuracy, precision, recall, and other things. This will be a good start for implementing a new ML side of your business. "
      ]
    },
    {
      "cell_type": "markdown",
      "metadata": {
        "id": "wusA9L1LmUMH"
      },
      "source": [
        "# Question 2: Applications of Machine Learning (5 pts)\n",
        "Read this [article](https://builtin.com/data-science/data-science-applications-examples) \"17 Data Science Applications & Examples\" and pick one of the data science systems used by various organizations according to this blog. \n",
        "\n",
        "For this system you have chosen, answer the following questions. Please limit your answer to one paragraph:\n",
        "\n",
        "1. What kind of machine learning problem is involved (e.g. classification, regression, clustering, outlier detection,...) in this system?\n",
        "2. Speculate on what kind of data may be needed and how the results can be useful to the organization.\n",
        "3. What do you think are the ethical implications of using machine learning in a domain like this?\n",
        "\n",
        "## Answer: \n",
        "1. I Choose the tinder example. This uses clustering first to look at attractiveness scores and now the cluster those with similar traits and swiping history. \n",
        "2. They would need loaction data, swiping data, and how active people are. It would also originally use the images of people and likely a training set of images to determine subjective attractivenes. These results would be useful in keeping people on the app if they are getting involvement with other people and getting messages back from those who the messaged. Also you do not get the \"there is no one on this app that I like\" problem. \n",
        "3. I think that they stopped using attractiveness in the app because of concerns over attractiveness being a ranking and the publicity involved. I think that the swiping data is great to use and ethical, along with location and information in your public profile. But if they use personal private messages then that would be crossing the line. "
      ]
    },
    {
      "cell_type": "markdown",
      "metadata": {
        "id": "2w8za9lLmVO7"
      },
      "source": [
        "# Question 3: Simpson's Paradox (10 pts)\n",
        "A data scientist should be careful about drawing unwarranted conclusions about any data that is presented. One of the 'gotchas' that can happen even in apparently very simple tabular summaries, is called Simpson's paradox.\n",
        "\n",
        "Read this [article](https://www.covid-datascience.com/post/israeli-data-how-can-efficacy-vs-severe-disease-be-strong-when-60-of-hospitalized-are-vaccinated), which explains why the computed efficacy of the Pfizer vaccine is misleadingly low (67.5%) when you lump all people together, but once you stratify people by age (which is the right thing to do), you get much higher efficacy numbers.\n",
        "\n",
        "1.(**5 pts**) Explain in your own words what Simpson's paradox is, and how this 'paradox' can happen in real data.\n",
        "\n",
        "2.(**5 pts**) Find and mention another example of Simpson's paradox (but not any of the 3 examples given in the Wikipedia entry for 'Simpson's paradox'), state why the paradox appeared in your chosen example. Also give a reference (URL) to your source for the chosen example.\n",
        "\n",
        "## Answer:\n",
        "1. Simpsons paradox is when there is multiple things that correlate, for example when the vaccination rate and the amount of hospitalizations go up with a strong relationship but this is because of the correlation between age and vaccination rate and age and hospitilizations. This means the unsegemnted data will not capture the causation but only correlation. This means that the rates could show misleading numbers. The paradox is when the unsegmented data shows one thing that is inaccurate but when segmented the truth becomes clear. \n",
        "2. An example of this paradox I found is that with the change in the median income and education level. While the median income has risen in the united states each educational subgroup has fallen. This is because of the reletive frequencies of the education levels and their relative lessening of rates. The decrease in college grads is only 1.2% where lower educational levels have dropped 7.9%. because of the smaller drop in college education and the dift in the proportion you see the increase in the population even though a decline in every sub group\n",
        "\n",
        "https://blog.revolutionanalytics.com/2013/07/a-great-example-of-simpsons-paradox.html"
      ]
    },
    {
      "cell_type": "markdown",
      "metadata": {
        "id": "gth0D8jiMBSe"
      },
      "source": [
        "# Question 4: Ridge and Lasso Regression (30 pts)\n",
        "\n",
        "Download the dataset **Admission.csv** from Canvas and use the following codes to import the Admission dataset in Python. \n",
        "\n",
        "There are 7 features in the dataset:\n",
        "\n",
        "1. GRE score\n",
        "2. TOEFL score\n",
        "3. University Rating\n",
        "4. SOP(Statement of Purpose)\n",
        "5. LOR(Letter of Recommendation)\n",
        "6. CGPA\n",
        "7. Research\n",
        "\n",
        "And the target is **Chance of Admission**."
      ]
    },
    {
      "cell_type": "code",
      "metadata": {
        "id": "QFazlpLgGpAa",
        "colab": {
          "resources": {
            "http://localhost:8080/nbextensions/google.colab/files.js": {
              "data": "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",
              "ok": true,
              "headers": [
                [
                  "content-type",
                  "application/javascript"
                ]
              ],
              "status": 200,
              "status_text": ""
            }
          },
          "base_uri": "https://localhost:8080/",
          "height": 73
        },
        "outputId": "291ce7c4-7bff-45a6-b3e6-e29dceb6b2d7"
      },
      "source": [
        "# # Only use this code block if you are using Google Colab.\n",
        "# # If you are using Jupyter Notebook, please ignore this code block. You can directly upload the file to your Jupyter Notebook file systems.\n",
        "from google.colab import files\n",
        "\n",
        "# ## It will prompt you to select a local file. Click on “Choose Files” then select and upload the file. \n",
        "# ## Wait for the file to be 100% uploaded. You should see the name of the file once Colab has uploaded it.\n",
        "uploaded = files.upload()"
      ],
      "execution_count": null,
      "outputs": [
        {
          "output_type": "display_data",
          "data": {
            "text/html": [
              "\n",
              "     <input type=\"file\" id=\"files-7bd18276-13dd-4126-8d15-c7255c845791\" name=\"files[]\" multiple disabled\n",
              "        style=\"border:none\" />\n",
              "     <output id=\"result-7bd18276-13dd-4126-8d15-c7255c845791\">\n",
              "      Upload widget is only available when the cell has been executed in the\n",
              "      current browser session. Please rerun this cell to enable.\n",
              "      </output>\n",
              "      <script src=\"/nbextensions/google.colab/files.js\"></script> "
            ],
            "text/plain": [
              "<IPython.core.display.HTML object>"
            ]
          },
          "metadata": {}
        },
        {
          "output_type": "stream",
          "name": "stdout",
          "text": [
            "Saving Admission.csv to Admission.csv\n"
          ]
        }
      ]
    },
    {
      "cell_type": "code",
      "metadata": {
        "id": "xsPaOOehGuU6"
      },
      "source": [
        "# Codes below will work for both Google Colab and Jupyter Notebook.\n",
        "import numpy as np\n",
        "import pandas as pd\n",
        "import random\n",
        "import sklearn\n",
        "from sklearn import linear_model\n",
        "from sklearn.metrics import mean_absolute_error, mean_squared_error\n",
        "from sklearn.linear_model import LogisticRegression\n",
        "\n",
        "## Load the dataset into pandas DataFrame\n",
        "df = pd.read_csv('Admission.csv', index_col=0)\n",
        "df = df.replace([np.inf, -np.inf], np.nan) # \n",
        "df = df.fillna(0) # Replace all the NaN values with 0"
      ],
      "execution_count": null,
      "outputs": []
    },
    {
      "cell_type": "code",
      "metadata": {
        "id": "PmMz72U6Gv-z",
        "colab": {
          "base_uri": "https://localhost:8080/"
        },
        "outputId": "1d3c56ef-f9a8-40b7-a975-fcc3b157ddf3"
      },
      "source": [
        "df.columns # Show you all the columns in this file"
      ],
      "execution_count": null,
      "outputs": [
        {
          "output_type": "execute_result",
          "data": {
            "text/plain": [
              "Index(['GRE_Score', 'TOEFL_Score', 'University_Rating', 'SOP', 'LOR ', 'CGPA',\n",
              "       'Research', 'Chance_of_Admit'],\n",
              "      dtype='object')"
            ]
          },
          "metadata": {},
          "execution_count": 3
        }
      ]
    },
    {
      "cell_type": "code",
      "metadata": {
        "id": "CyZN-yFfGxlt",
        "colab": {
          "base_uri": "https://localhost:8080/",
          "height": 235
        },
        "outputId": "66556d57-2538-4aec-f8e0-23e54176c989"
      },
      "source": [
        "df.head() # Show you the first 5 rows in this file"
      ],
      "execution_count": null,
      "outputs": [
        {
          "output_type": "execute_result",
          "data": {
            "text/html": [
              "<div>\n",
              "<style scoped>\n",
              "    .dataframe tbody tr th:only-of-type {\n",
              "        vertical-align: middle;\n",
              "    }\n",
              "\n",
              "    .dataframe tbody tr th {\n",
              "        vertical-align: top;\n",
              "    }\n",
              "\n",
              "    .dataframe thead th {\n",
              "        text-align: right;\n",
              "    }\n",
              "</style>\n",
              "<table border=\"1\" class=\"dataframe\">\n",
              "  <thead>\n",
              "    <tr style=\"text-align: right;\">\n",
              "      <th></th>\n",
              "      <th>GRE_Score</th>\n",
              "      <th>TOEFL_Score</th>\n",
              "      <th>University_Rating</th>\n",
              "      <th>SOP</th>\n",
              "      <th>LOR</th>\n",
              "      <th>CGPA</th>\n",
              "      <th>Research</th>\n",
              "      <th>Chance_of_Admit</th>\n",
              "    </tr>\n",
              "    <tr>\n",
              "      <th>Serial No.</th>\n",
              "      <th></th>\n",
              "      <th></th>\n",
              "      <th></th>\n",
              "      <th></th>\n",
              "      <th></th>\n",
              "      <th></th>\n",
              "      <th></th>\n",
              "      <th></th>\n",
              "    </tr>\n",
              "  </thead>\n",
              "  <tbody>\n",
              "    <tr>\n",
              "      <th>1</th>\n",
              "      <td>337</td>\n",
              "      <td>118</td>\n",
              "      <td>4</td>\n",
              "      <td>4.5</td>\n",
              "      <td>4.5</td>\n",
              "      <td>9.65</td>\n",
              "      <td>1</td>\n",
              "      <td>0.92</td>\n",
              "    </tr>\n",
              "    <tr>\n",
              "      <th>2</th>\n",
              "      <td>324</td>\n",
              "      <td>107</td>\n",
              "      <td>4</td>\n",
              "      <td>4.0</td>\n",
              "      <td>4.5</td>\n",
              "      <td>8.87</td>\n",
              "      <td>1</td>\n",
              "      <td>0.76</td>\n",
              "    </tr>\n",
              "    <tr>\n",
              "      <th>3</th>\n",
              "      <td>316</td>\n",
              "      <td>104</td>\n",
              "      <td>3</td>\n",
              "      <td>3.0</td>\n",
              "      <td>3.5</td>\n",
              "      <td>8.00</td>\n",
              "      <td>1</td>\n",
              "      <td>0.72</td>\n",
              "    </tr>\n",
              "    <tr>\n",
              "      <th>4</th>\n",
              "      <td>322</td>\n",
              "      <td>110</td>\n",
              "      <td>3</td>\n",
              "      <td>3.5</td>\n",
              "      <td>2.5</td>\n",
              "      <td>8.67</td>\n",
              "      <td>1</td>\n",
              "      <td>0.80</td>\n",
              "    </tr>\n",
              "    <tr>\n",
              "      <th>5</th>\n",
              "      <td>314</td>\n",
              "      <td>103</td>\n",
              "      <td>2</td>\n",
              "      <td>2.0</td>\n",
              "      <td>3.0</td>\n",
              "      <td>8.21</td>\n",
              "      <td>0</td>\n",
              "      <td>0.65</td>\n",
              "    </tr>\n",
              "  </tbody>\n",
              "</table>\n",
              "</div>"
            ],
            "text/plain": [
              "            GRE_Score  TOEFL_Score  ...  Research  Chance_of_Admit\n",
              "Serial No.                          ...                           \n",
              "1                 337          118  ...         1             0.92\n",
              "2                 324          107  ...         1             0.76\n",
              "3                 316          104  ...         1             0.72\n",
              "4                 322          110  ...         1             0.80\n",
              "5                 314          103  ...         0             0.65\n",
              "\n",
              "[5 rows x 8 columns]"
            ]
          },
          "metadata": {},
          "execution_count": 4
        }
      ]
    },
    {
      "cell_type": "code",
      "metadata": {
        "id": "S3TfR0i4G2rO"
      },
      "source": [
        "y = df['Chance_of_Admit'].to_numpy() # The column named Chance_of_Admit is used as the target, and we store it in y\n",
        "X = df.drop(['Chance_of_Admit'], axis=1).to_numpy() # We keep the remaining columns as the features, and store them in x"
      ],
      "execution_count": null,
      "outputs": []
    },
    {
      "cell_type": "markdown",
      "metadata": {
        "id": "-O6v8tyncNWn"
      },
      "source": [
        "#Part 1\n",
        "\n",
        "(**2 pts**) Split the data into a training set(75% of data) and a test set(25% of data), using the [train_test_split](https://scikit-learn.org/stable/modules/generated/sklearn.model_selection.train_test_split.html) function with random_state = 50. Then scale the data (not including target) so that each of the independent variables would have zero mean and unit variance. You can use the [sklearn.preprocessing.scale](https://scikit-learn.org/stable/modules/generated/sklearn.preprocessing.scale.html) function for this. Print the first 5 rows of the training set after scaling."
      ]
    },
    {
      "cell_type": "code",
      "metadata": {
        "id": "EOv3ezuz9Wb8",
        "colab": {
          "base_uri": "https://localhost:8080/"
        },
        "outputId": "dd318ebe-9568-481c-bb16-ef4ab475282a"
      },
      "source": [
        "from sklearn.model_selection import train_test_split\n",
        "from sklearn import preprocessing\n",
        "\n",
        "X_train, X_test, Y_train, Y_test = train_test_split(X, y, test_size = 0.25, random_state=50)\n",
        "X_train = sklearn.preprocessing.scale(X_train)\n",
        "X_test = sklearn.preprocessing.scale(X_test)\n",
        "X_train[0:5]"
      ],
      "execution_count": null,
      "outputs": [
        {
          "output_type": "execute_result",
          "data": {
            "text/plain": [
              "array([[ 1.52725374,  2.0917706 ,  1.61594354,  0.63150829,  1.72829095,\n",
              "         2.11370277,  0.90453403],\n",
              "       [ 0.74180896,  0.46308859, -0.9310778 , -0.35266047, -1.04140609,\n",
              "         0.29488827,  0.90453403],\n",
              "       [ 0.56726568,  0.13735218,  1.61594354,  0.63150829,  0.62041214,\n",
              "         0.26211684,  0.90453403],\n",
              "       [-0.39272239, -0.51412062, -0.08207069,  0.13942391,  0.62041214,\n",
              "        -0.80295471, -1.1055416 ],\n",
              "       [ 0.47999403,  0.78882499,  0.76693642,  1.12359267,  1.17435154,\n",
              "         1.11417408,  0.90453403]])"
            ]
          },
          "metadata": {},
          "execution_count": 6
        }
      ]
    },
    {
      "cell_type": "markdown",
      "metadata": {
        "id": "7q-gFWztHvHB"
      },
      "source": [
        "#Part 2\n",
        "\n",
        "(**5 pts**) Use [sklearn.linear_model.Lasso](https://scikit-learn.org/stable/modules/generated/sklearn.linear_model.Lasso.html) and [sklearn.linear_model.Ridge](https://scikit-learn.org/stable/modules/generated/sklearn.linear_model.Ridge.html) classes to do a **5-fold** cross validation using sklearn's KFold. For the sweep of the regularization parameter, we will look at a grid of values ranging from α=10^10 to α=10^−6. In Python, you can consider this range of values as follows: alpha = 10**numpy.linspace(6,-6,100) \n",
        "so that you can generate 100 uniform values between -6 to 6 as power series.\n",
        "\n",
        "Fit the 2 regression models with scaled data and report the best chosen **α** based on cross validation as well as the corresponding scoring metric. The cross validation should happen on your training data using **MSE** as the scoring metric."
      ]
    },
    {
      "cell_type": "code",
      "metadata": {
        "id": "wugkWFlDF2KO",
        "colab": {
          "base_uri": "https://localhost:8080/"
        },
        "outputId": "664ecc39-7211-4319-b6ff-c3093d7db1d9"
      },
      "source": [
        "alpha = 10**np.linspace(6,-6,100)\n",
        "alpha"
      ],
      "execution_count": null,
      "outputs": [
        {
          "output_type": "execute_result",
          "data": {
            "text/plain": [
              "array([1.00000000e+06, 7.56463328e+05, 5.72236766e+05, 4.32876128e+05,\n",
              "       3.27454916e+05, 2.47707636e+05, 1.87381742e+05, 1.41747416e+05,\n",
              "       1.07226722e+05, 8.11130831e+04, 6.13590727e+04, 4.64158883e+04,\n",
              "       3.51119173e+04, 2.65608778e+04, 2.00923300e+04, 1.51991108e+04,\n",
              "       1.14975700e+04, 8.69749003e+03, 6.57933225e+03, 4.97702356e+03,\n",
              "       3.76493581e+03, 2.84803587e+03, 2.15443469e+03, 1.62975083e+03,\n",
              "       1.23284674e+03, 9.32603347e+02, 7.05480231e+02, 5.33669923e+02,\n",
              "       4.03701726e+02, 3.05385551e+02, 2.31012970e+02, 1.74752840e+02,\n",
              "       1.32194115e+02, 1.00000000e+02, 7.56463328e+01, 5.72236766e+01,\n",
              "       4.32876128e+01, 3.27454916e+01, 2.47707636e+01, 1.87381742e+01,\n",
              "       1.41747416e+01, 1.07226722e+01, 8.11130831e+00, 6.13590727e+00,\n",
              "       4.64158883e+00, 3.51119173e+00, 2.65608778e+00, 2.00923300e+00,\n",
              "       1.51991108e+00, 1.14975700e+00, 8.69749003e-01, 6.57933225e-01,\n",
              "       4.97702356e-01, 3.76493581e-01, 2.84803587e-01, 2.15443469e-01,\n",
              "       1.62975083e-01, 1.23284674e-01, 9.32603347e-02, 7.05480231e-02,\n",
              "       5.33669923e-02, 4.03701726e-02, 3.05385551e-02, 2.31012970e-02,\n",
              "       1.74752840e-02, 1.32194115e-02, 1.00000000e-02, 7.56463328e-03,\n",
              "       5.72236766e-03, 4.32876128e-03, 3.27454916e-03, 2.47707636e-03,\n",
              "       1.87381742e-03, 1.41747416e-03, 1.07226722e-03, 8.11130831e-04,\n",
              "       6.13590727e-04, 4.64158883e-04, 3.51119173e-04, 2.65608778e-04,\n",
              "       2.00923300e-04, 1.51991108e-04, 1.14975700e-04, 8.69749003e-05,\n",
              "       6.57933225e-05, 4.97702356e-05, 3.76493581e-05, 2.84803587e-05,\n",
              "       2.15443469e-05, 1.62975083e-05, 1.23284674e-05, 9.32603347e-06,\n",
              "       7.05480231e-06, 5.33669923e-06, 4.03701726e-06, 3.05385551e-06,\n",
              "       2.31012970e-06, 1.74752840e-06, 1.32194115e-06, 1.00000000e-06])"
            ]
          },
          "metadata": {},
          "execution_count": 7
        }
      ]
    },
    {
      "cell_type": "code",
      "metadata": {
        "id": "tLqo44UR9Wb9"
      },
      "source": [
        "from sklearn.model_selection import KFold\n",
        "from sklearn.metrics import mean_absolute_error, mean_squared_error\n",
        "from sklearn import linear_model\n",
        "\n",
        "n_splits = 5\n",
        "kf = KFold(n_splits=n_splits)"
      ],
      "execution_count": null,
      "outputs": []
    },
    {
      "cell_type": "markdown",
      "metadata": {
        "id": "G8vOG8RUOqBB"
      },
      "source": [
        "#Part 2: RIDGE MODEL"
      ]
    },
    {
      "cell_type": "code",
      "metadata": {
        "id": "d-9pCW2bGMM0",
        "colab": {
          "base_uri": "https://localhost:8080/"
        },
        "outputId": "c3088bb0-deb9-437b-89d8-bae791e67ece"
      },
      "source": [
        "MSE = []\n",
        "MAE = []\n",
        "\n",
        "mse = 0\n",
        "mae = 0\n",
        "\n",
        "\n",
        "for a in alpha:\n",
        "\n",
        "    for train_index, test_index in kf.split(X_train):\n",
        "        \n",
        "        x_train, x_test = X_train[train_index], X_train[test_index]\n",
        "        y_train, y_test = Y_train[train_index], Y_train[test_index]\n",
        "\n",
        "        ridge = linear_model.Ridge(alpha = a)\n",
        "        ridge = ridge.fit(x_train, y_train)\n",
        "        \n",
        "        mse += mean_squared_error(y_test, ridge.predict(x_test))\n",
        "        mae += mean_absolute_error(y_test, ridge.predict(x_test))\n",
        "        \n",
        "    mse = mse/5\n",
        "    mae = mse/5\n",
        "\n",
        "    MSE.append(mse)\n",
        "    MAE.append(mae)\n",
        "    \n",
        "    mse = 0\n",
        "    mae = 0\n",
        "\n",
        "print('MSE:', min(MSE))\n",
        "print('MAE:', min(MAE))"
      ],
      "execution_count": null,
      "outputs": [
        {
          "output_type": "stream",
          "name": "stdout",
          "text": [
            "MSE: 0.004118013884240712\n",
            "MAE: 0.0008236027768481424\n"
          ]
        }
      ]
    },
    {
      "cell_type": "code",
      "metadata": {
        "id": "VPjeFpSEK-DX",
        "colab": {
          "base_uri": "https://localhost:8080/"
        },
        "outputId": "cced3eec-a696-44f7-8c88-9a3c0fe6c950"
      },
      "source": [
        "min_value = min(MSE)\n",
        "min_index = MSE.index(min_value)\n",
        "min_index"
      ],
      "execution_count": null,
      "outputs": [
        {
          "output_type": "execute_result",
          "data": {
            "text/plain": [
              "44"
            ]
          },
          "metadata": {},
          "execution_count": 10
        }
      ]
    },
    {
      "cell_type": "code",
      "metadata": {
        "id": "O0aSwIsrK_Sb",
        "colab": {
          "base_uri": "https://localhost:8080/"
        },
        "outputId": "7e56a51c-eb67-40f4-b54b-51defccea2a8"
      },
      "source": [
        "MSE[min_index] # min MSE"
      ],
      "execution_count": null,
      "outputs": [
        {
          "output_type": "execute_result",
          "data": {
            "text/plain": [
              "0.004118013884240712"
            ]
          },
          "metadata": {},
          "execution_count": 11
        }
      ]
    },
    {
      "cell_type": "code",
      "metadata": {
        "id": "iiqYp0S6K_rp",
        "colab": {
          "base_uri": "https://localhost:8080/"
        },
        "outputId": "4c42fd5c-af20-462b-9641-eadcc8440af8"
      },
      "source": [
        "alpha[min_index] # best alpha according the Kfold CV using MSE"
      ],
      "execution_count": null,
      "outputs": [
        {
          "output_type": "execute_result",
          "data": {
            "text/plain": [
              "4.641588833612772"
            ]
          },
          "metadata": {},
          "execution_count": 12
        }
      ]
    },
    {
      "cell_type": "code",
      "metadata": {
        "id": "pBr3ziKtLM9a",
        "colab": {
          "base_uri": "https://localhost:8080/"
        },
        "outputId": "9933aeb7-0021-4dde-e48e-c53628cb73b6"
      },
      "source": [
        "min_value = min(MAE)\n",
        "min_index = MAE.index(min_value)\n",
        "min_index"
      ],
      "execution_count": null,
      "outputs": [
        {
          "output_type": "execute_result",
          "data": {
            "text/plain": [
              "44"
            ]
          },
          "metadata": {},
          "execution_count": 13
        }
      ]
    },
    {
      "cell_type": "code",
      "metadata": {
        "id": "pPiEb3uhLNOZ",
        "colab": {
          "base_uri": "https://localhost:8080/"
        },
        "outputId": "bab841d4-b42f-48b8-93dc-92f527aa8bc1"
      },
      "source": [
        "MAE[min_index]"
      ],
      "execution_count": null,
      "outputs": [
        {
          "output_type": "execute_result",
          "data": {
            "text/plain": [
              "0.0008236027768481424"
            ]
          },
          "metadata": {},
          "execution_count": 14
        }
      ]
    },
    {
      "cell_type": "code",
      "metadata": {
        "id": "zMKDetfNLQAk",
        "colab": {
          "base_uri": "https://localhost:8080/"
        },
        "outputId": "64a3f7cc-4e06-4d0f-b3a1-bdf55b2ecb78"
      },
      "source": [
        "alpha[min_index]"
      ],
      "execution_count": null,
      "outputs": [
        {
          "output_type": "execute_result",
          "data": {
            "text/plain": [
              "4.641588833612772"
            ]
          },
          "metadata": {},
          "execution_count": 15
        }
      ]
    },
    {
      "cell_type": "markdown",
      "metadata": {
        "id": "_7gYiZgcOwJM"
      },
      "source": [
        "#Part 2: LASSO MODEL"
      ]
    },
    {
      "cell_type": "code",
      "metadata": {
        "id": "qXtPcbmfLVq5",
        "colab": {
          "base_uri": "https://localhost:8080/"
        },
        "outputId": "d08e878c-0376-4577-c2ad-a3bf18ea0fa6"
      },
      "source": [
        "MSE = []\n",
        "MAE = []\n",
        "\n",
        "mse = 0\n",
        "mae = 0\n",
        "\n",
        "\n",
        "for a in alpha:\n",
        "\n",
        "    for train_index, test_index in kf.split(X_train):\n",
        "        \n",
        "        x_train, x_test = X_train[train_index], X_train[test_index]\n",
        "        y_train, y_test = Y_train[train_index], Y_train[test_index]\n",
        "\n",
        "        lasso = linear_model.Lasso(alpha = a)\n",
        "        lasso = lasso.fit(x_train, y_train)\n",
        "        \n",
        "        mse += mean_squared_error(y_test, lasso.predict(x_test))\n",
        "        mae += mean_absolute_error(y_test, lasso.predict(x_test))\n",
        "        \n",
        "    mse = mse/5\n",
        "    mae = mse/5\n",
        "\n",
        "    MSE.append(mse)\n",
        "    MAE.append(mae)\n",
        "    \n",
        "    mse = 0\n",
        "    mae = 0\n",
        "\n",
        "print('MSE:', min(MSE))\n",
        "print('MAE:', min(MAE))"
      ],
      "execution_count": null,
      "outputs": [
        {
          "output_type": "stream",
          "name": "stdout",
          "text": [
            "MSE: 0.00409842531805538\n",
            "MAE: 0.0008196850636110759\n"
          ]
        }
      ]
    },
    {
      "cell_type": "code",
      "metadata": {
        "id": "z3V1Z2NKLgE3",
        "colab": {
          "base_uri": "https://localhost:8080/"
        },
        "outputId": "27eab83a-3cc0-4042-ee5c-a650583e6fc2"
      },
      "source": [
        "min_value = min(MSE)\n",
        "min_index = MSE.index(min_value)\n",
        "min_index"
      ],
      "execution_count": null,
      "outputs": [
        {
          "output_type": "execute_result",
          "data": {
            "text/plain": [
              "74"
            ]
          },
          "metadata": {},
          "execution_count": 17
        }
      ]
    },
    {
      "cell_type": "code",
      "metadata": {
        "id": "PfJJ3xwFLf9A",
        "colab": {
          "base_uri": "https://localhost:8080/"
        },
        "outputId": "b2d5d4c0-ab2f-4066-d862-c6e9264d5f1c"
      },
      "source": [
        "MSE[min_index] # min MSE"
      ],
      "execution_count": null,
      "outputs": [
        {
          "output_type": "execute_result",
          "data": {
            "text/plain": [
              "0.00409842531805538"
            ]
          },
          "metadata": {},
          "execution_count": 18
        }
      ]
    },
    {
      "cell_type": "code",
      "metadata": {
        "id": "mbIghe6YLf1A",
        "colab": {
          "base_uri": "https://localhost:8080/"
        },
        "outputId": "2edb3ee3-5189-437f-d054-a191bc1ffeda"
      },
      "source": [
        "alpha[min_index]"
      ],
      "execution_count": null,
      "outputs": [
        {
          "output_type": "execute_result",
          "data": {
            "text/plain": [
              "0.001072267222010321"
            ]
          },
          "metadata": {},
          "execution_count": 19
        }
      ]
    },
    {
      "cell_type": "code",
      "metadata": {
        "id": "vExIch8NLfsI",
        "colab": {
          "base_uri": "https://localhost:8080/"
        },
        "outputId": "e884a0ea-0f59-4d73-b46f-72d722b8aa71"
      },
      "source": [
        "min_value = min(MAE)\n",
        "min_index = MAE.index(min_value)\n",
        "min_index"
      ],
      "execution_count": null,
      "outputs": [
        {
          "output_type": "execute_result",
          "data": {
            "text/plain": [
              "74"
            ]
          },
          "metadata": {},
          "execution_count": 20
        }
      ]
    },
    {
      "cell_type": "code",
      "metadata": {
        "id": "u_jUCKm8LVhF",
        "colab": {
          "base_uri": "https://localhost:8080/"
        },
        "outputId": "f3e90fff-40f1-42d8-b366-892c9e9e655e"
      },
      "source": [
        "MAE[min_index]"
      ],
      "execution_count": null,
      "outputs": [
        {
          "output_type": "execute_result",
          "data": {
            "text/plain": [
              "0.0008196850636110759"
            ]
          },
          "metadata": {},
          "execution_count": 21
        }
      ]
    },
    {
      "cell_type": "code",
      "metadata": {
        "id": "PmBGmZRWLVKa",
        "colab": {
          "base_uri": "https://localhost:8080/"
        },
        "outputId": "eda8a034-3c81-48bf-9c0e-2c4b58dd4a84"
      },
      "source": [
        "alpha[min_index]"
      ],
      "execution_count": null,
      "outputs": [
        {
          "output_type": "execute_result",
          "data": {
            "text/plain": [
              "0.001072267222010321"
            ]
          },
          "metadata": {},
          "execution_count": 22
        }
      ]
    },
    {
      "cell_type": "markdown",
      "metadata": {
        "id": "StybMnMvNu7S"
      },
      "source": [
        "#Part 3: RIDGE PLOT\n",
        "\n",
        "(**5 pts**) Run ridge and lasso regression for all of the **α** specified above (on training data), and plot the coefficients learned for each of them - there should be one plot each for lasso and ridge, so a total of two plots; different features' weights of each model should be on the same plot with different colors (3pts). \n",
        "\n",
        "What do you qualitatively observe when the value of the regularization parameter changes (2pts)? "
      ]
    },
    {
      "cell_type": "code",
      "metadata": {
        "id": "KSH32alNL1u4",
        "colab": {
          "base_uri": "https://localhost:8080/",
          "height": 299
        },
        "outputId": "20014039-b8ad-4614-cd28-7e6ab11947df"
      },
      "source": [
        "import matplotlib.pyplot as plt\n",
        "\n",
        "# #############################################################################\n",
        "# PLOT RIDGE\n",
        "alphas = 10**np.linspace(6,-6,100)\n",
        "coefs = []\n",
        "for a in alphas:\n",
        "    ridge = linear_model.Ridge(alpha=a, fit_intercept=False)\n",
        "    ridge.fit(x_train, y_train)\n",
        "    coefs.append(ridge.coef_)\n",
        "# #############################################################################\n",
        "# Display results\n",
        "ax = plt.gca()\n",
        "ax.plot(alphas, coefs)\n",
        "ax.set_xscale('log')\n",
        "ax.set_xlim(ax.get_xlim()[::-1])  # reverse axis\n",
        "plt.xlabel('alpha')\n",
        "plt.ylabel('weights')\n",
        "plt.title('Ridge coefficients as a function of the regularization')\n",
        "plt.axis('tight')\n",
        "plt.show()"
      ],
      "execution_count": null,
      "outputs": [
        {
          "output_type": "display_data",
          "data": {
            "image/png": "[encoded data removed]",
            "text/plain": [
              "<Figure size 432x288 with 1 Axes>"
            ]
          },
          "metadata": {
            "needs_background": "light"
          }
        }
      ]
    },
    {
      "cell_type": "markdown",
      "metadata": {
        "id": "qW0BeZ4TUo56"
      },
      "source": [
        "#Part 3: LASSO PLOT\n"
      ]
    },
    {
      "cell_type": "code",
      "metadata": {
        "id": "1DxY4aSFL1sC",
        "colab": {
          "base_uri": "https://localhost:8080/",
          "height": 299
        },
        "outputId": "9a1d0e05-0249-4b67-91e1-d4fdf4bc85ba"
      },
      "source": [
        "# #############################################################################\n",
        "# PLOT LASSO\n",
        "alphas = 10**np.linspace(6,-6,100)\n",
        "coefs = []\n",
        "for a in alphas:\n",
        "    lasso = linear_model.Lasso(alpha=a, fit_intercept=False)\n",
        "    lasso.fit(x_train, y_train)\n",
        "    coefs.append(lasso.coef_)\n",
        "# #############################################################################\n",
        "# Display results\n",
        "ax = plt.gca()\n",
        "ax.plot(alphas, coefs)\n",
        "ax.set_xscale('log')\n",
        "ax.set_xlim(ax.get_xlim()[::-1])  # reverse axis\n",
        "plt.xlabel('alpha')\n",
        "plt.ylabel('weights')\n",
        "plt.title('Lasso coefficients as a function of the regularization')\n",
        "plt.axis('tight')\n",
        "plt.show()"
      ],
      "execution_count": null,
      "outputs": [
        {
          "output_type": "display_data",
          "data": {
            "image/png": "[encoded data removed]",
            "text/plain": [
              "<Figure size 432x288 with 1 Axes>"
            ]
          },
          "metadata": {
            "needs_background": "light"
          }
        }
      ]
    },
    {
      "cell_type": "markdown",
      "metadata": {
        "id": "5FuaHqATVREt"
      },
      "source": [
        "What do you qualitatively observe when the value of the regularization parameter changes (2pts)? \n",
        "\n",
        "**Ridge** : When minimizing the size of the alpha parameter one can notice that the weight starts off at a value of zero until it reaches an alpha with the range between 10^3 and 10^1, where it expierences a significant change. Then weight appears to plateau to a specific value after reaching an alpha of 10^1.\n",
        "\n",
        "**Lasso**: Similar to Ridge when minimizing the size of alpha, the weight starts off at a value of zero until it reaches an alpha with the range between 10^-1 and 10^-3, where it expierences a significant change. Then weight appears to plateau to a specific value after reaching an alpha of 10^-3. Based on the graph above it appears as if the weight for some alphas drops below a value of zero for this case."
      ]
    },
    {
      "cell_type": "markdown",
      "metadata": {
        "id": "TJuHACItI-GR"
      },
      "source": [
        "# Part 4: \n",
        "(**3 pts**) Take the exponential of Y_train as the target, and fit the 2 regression models again. Report the best chosen **α** based on cross validation as well as the corresponding scoring metric. Compare the results of using the original target with the results of using the exponential of the target. What do you observe?"
      ]
    },
    {
      "cell_type": "markdown",
      "metadata": {
        "id": "7bNNTyqDRAZR"
      },
      "source": [
        "#Part 4: EXPONENTIAL RIDGE"
      ]
    },
    {
      "cell_type": "code",
      "metadata": {
        "colab": {
          "base_uri": "https://localhost:8080/"
        },
        "id": "eJJGgWT0RCSK",
        "outputId": "46ce1b91-b12b-44f9-ab2d-432a78e6fbad"
      },
      "source": [
        "MSE = []\n",
        "MAE = []\n",
        "\n",
        "mse = 0\n",
        "mae = 0\n",
        "\n",
        "_Y_train = np.exp(Y_train)\n",
        "\n",
        "for a in alpha:\n",
        "\n",
        "    for train_index, test_index in kf.split(X_train):\n",
        "        \n",
        "        x_train, x_test = X_train[train_index], X_train[test_index]\n",
        "        y_train, y_test = _Y_train[train_index], _Y_train[test_index]\n",
        "\n",
        "        ridge = linear_model.Ridge(alpha = a)\n",
        "        ridge = ridge.fit(x_train, y_train)\n",
        "        \n",
        "        mse += mean_squared_error(y_test, ridge.predict(x_test))\n",
        "        mae += mean_absolute_error(y_test, ridge.predict(x_test))\n",
        "        \n",
        "    mse = mse/5\n",
        "    mae = mse/5\n",
        "\n",
        "    MSE.append(mse)\n",
        "    MAE.append(mae)\n",
        "    \n",
        "    mse = 0\n",
        "    mae = 0\n",
        "\n",
        "print('MSE:', min(MSE))\n",
        "print('MAE:', min(MAE))"
      ],
      "execution_count": null,
      "outputs": [
        {
          "output_type": "stream",
          "name": "stdout",
          "text": [
            "MSE: 0.014815008775351055\n",
            "MAE: 0.002963001755070211\n"
          ]
        }
      ]
    },
    {
      "cell_type": "code",
      "metadata": {
        "colab": {
          "base_uri": "https://localhost:8080/"
        },
        "id": "A8VLWL1FS7Zp",
        "outputId": "330365f3-5dbd-4595-f908-1bf0e1b0aa7b"
      },
      "source": [
        "min_value = min(MSE)\n",
        "min_index = MSE.index(min_value)\n",
        "min_index"
      ],
      "execution_count": null,
      "outputs": [
        {
          "output_type": "execute_result",
          "data": {
            "text/plain": [
              "43"
            ]
          },
          "metadata": {},
          "execution_count": 26
        }
      ]
    },
    {
      "cell_type": "code",
      "metadata": {
        "colab": {
          "base_uri": "https://localhost:8080/"
        },
        "id": "bsBO17GeS7Nj",
        "outputId": "82002500-3abc-4bce-e240-fc758edb59dc"
      },
      "source": [
        "MSE[min_index]"
      ],
      "execution_count": null,
      "outputs": [
        {
          "output_type": "execute_result",
          "data": {
            "text/plain": [
              "0.014815008775351055"
            ]
          },
          "metadata": {},
          "execution_count": 27
        }
      ]
    },
    {
      "cell_type": "code",
      "metadata": {
        "colab": {
          "base_uri": "https://localhost:8080/"
        },
        "id": "2WpQFIxBS7An",
        "outputId": "7db49655-d70c-44d0-83f7-fe99911ae42b"
      },
      "source": [
        "alpha[min_index]"
      ],
      "execution_count": null,
      "outputs": [
        {
          "output_type": "execute_result",
          "data": {
            "text/plain": [
              "6.135907273413176"
            ]
          },
          "metadata": {},
          "execution_count": 28
        }
      ]
    },
    {
      "cell_type": "markdown",
      "metadata": {
        "id": "VZWV3TDbVodm"
      },
      "source": [
        "#Part 4: EXPONENTIAL LASSO"
      ]
    },
    {
      "cell_type": "code",
      "metadata": {
        "colab": {
          "base_uri": "https://localhost:8080/"
        },
        "id": "2shEmj9fSP5X",
        "outputId": "b95edf62-1ebc-419b-f12f-00fe8f9ec38d"
      },
      "source": [
        "MSE = []\n",
        "MAE = []\n",
        "\n",
        "mse = 0\n",
        "mae = 0\n",
        "\n",
        "\n",
        "for a in alpha:\n",
        "\n",
        "    for train_index, test_index in kf.split(X_train):\n",
        "        \n",
        "        x_train, x_test = X_train[train_index], X_train[test_index]\n",
        "        y_train, y_test = _Y_train[train_index], _Y_train[test_index]\n",
        "\n",
        "        lasso = linear_model.Lasso(alpha = a)\n",
        "        lasso = lasso.fit(x_train, y_train)\n",
        "        \n",
        "        mse += mean_squared_error(y_test, lasso.predict(x_test))\n",
        "        mae += mean_absolute_error(y_test, lasso.predict(x_test))\n",
        "        \n",
        "    mse = mse/5\n",
        "    mae = mse/5\n",
        "\n",
        "    MSE.append(mse)\n",
        "    MAE.append(mae)\n",
        "    \n",
        "    mse = 0\n",
        "    mae = 0\n",
        "\n",
        "print('MSE:', min(MSE))\n",
        "print('MAE:', min(MAE))"
      ],
      "execution_count": null,
      "outputs": [
        {
          "output_type": "stream",
          "name": "stdout",
          "text": [
            "MSE: 0.01476731964422993\n",
            "MAE: 0.002953463928845986\n"
          ]
        }
      ]
    },
    {
      "cell_type": "code",
      "metadata": {
        "colab": {
          "base_uri": "https://localhost:8080/"
        },
        "id": "OWvfdENETH0A",
        "outputId": "d9abd2a7-255d-4d3f-e936-b2e8d412e136"
      },
      "source": [
        "min_value = min(MSE)\n",
        "min_index = MSE.index(min_value)\n",
        "min_index"
      ],
      "execution_count": null,
      "outputs": [
        {
          "output_type": "execute_result",
          "data": {
            "text/plain": [
              "72"
            ]
          },
          "metadata": {},
          "execution_count": 30
        }
      ]
    },
    {
      "cell_type": "code",
      "metadata": {
        "colab": {
          "base_uri": "https://localhost:8080/"
        },
        "id": "LY5erj70TIua",
        "outputId": "40adcf92-460b-4fea-8d70-bb58596dd3a5"
      },
      "source": [
        "MSE[min_index]"
      ],
      "execution_count": null,
      "outputs": [
        {
          "output_type": "execute_result",
          "data": {
            "text/plain": [
              "0.01476731964422993"
            ]
          },
          "metadata": {},
          "execution_count": 31
        }
      ]
    },
    {
      "cell_type": "code",
      "metadata": {
        "colab": {
          "base_uri": "https://localhost:8080/"
        },
        "id": "sFAlrhVjTIdH",
        "outputId": "eafc9fb4-1f14-42d4-9e95-92d3f1235b86"
      },
      "source": [
        "alpha[min_index]"
      ],
      "execution_count": null,
      "outputs": [
        {
          "output_type": "execute_result",
          "data": {
            "text/plain": [
              "0.0018738174228603867"
            ]
          },
          "metadata": {},
          "execution_count": 32
        }
      ]
    },
    {
      "cell_type": "markdown",
      "metadata": {
        "id": "rEASrtjcVuya"
      },
      "source": [
        "#Part 5: ELASTICNET MODEL / PLOT"
      ]
    },
    {
      "cell_type": "markdown",
      "metadata": {
        "id": "ZoJrNn5_66B9"
      },
      "source": [
        "#### (5 pts) Similarly, use sklearn.linear_model.ElasticNet to do linear regression with different α values, and plot the coefficients learned for each of them (2pts). Observe the plot, then explain the pros and cons of ridge, lasso and Elastic Net models (3pts)."
      ]
    },
    {
      "cell_type": "code",
      "metadata": {
        "colab": {
          "base_uri": "https://localhost:8080/",
          "height": 333
        },
        "id": "bEr-qvNqXNEK",
        "outputId": "58bd5592-9ebc-4fbf-f513-8135aba8d84a"
      },
      "source": [
        "# #############################################################################\n",
        "# ELASTICNET MODEL\n",
        "MSE = []\n",
        "MAE = []\n",
        "\n",
        "mse = 0\n",
        "mae = 0\n",
        "\n",
        "\n",
        "for a in alpha:\n",
        "\n",
        "    for train_index, test_index in kf.split(X_train):\n",
        "        \n",
        "        x_train, x_test = X_train[train_index], X_train[test_index]\n",
        "        y_train, y_test = Y_train[train_index], Y_train[test_index]\n",
        "\n",
        "        EN = linear_model.ElasticNet(alpha = a)\n",
        "        EN = EN.fit(x_train, y_train)\n",
        "        \n",
        "        mse += mean_squared_error(y_test, EN.predict(x_test))\n",
        "        mae += mean_absolute_error(y_test, EN.predict(x_test))\n",
        "        \n",
        "    mse = mse/5\n",
        "    mae = mse/5\n",
        "\n",
        "    MSE.append(mse)\n",
        "    MAE.append(mae)\n",
        "    \n",
        "    mse = 0\n",
        "    mae = 0\n",
        "\n",
        "print('MSE:', min(MSE))\n",
        "print('MAE:', min(MAE))\n",
        "\n",
        "# #############################################################################\n",
        "# PLOT ELASTICNET\n",
        "alphas = 10**np.linspace(6,-6,100)\n",
        "coefs = []\n",
        "for a in alphas:\n",
        "\n",
        "    EN = linear_model.ElasticNet(alpha = a)\n",
        "    EN = EN.fit(x_train, y_train)\n",
        "    coefs.append(EN.coef_)\n",
        "\n",
        "# #############################################################################\n",
        "# Display results\n",
        "ax = plt.gca()\n",
        "ax.plot(alphas, coefs)\n",
        "ax.set_xscale('log')\n",
        "ax.set_xlim(ax.get_xlim()[::-1])  # reverse axis\n",
        "plt.xlabel('alpha')\n",
        "plt.ylabel('weights')\n",
        "plt.title('ElasticNet coefficients as a function of the regularization')\n",
        "plt.axis('tight')\n",
        "plt.show()\n"
      ],
      "execution_count": null,
      "outputs": [
        {
          "output_type": "stream",
          "name": "stdout",
          "text": [
            "MSE: 0.004098968587261618\n",
            "MAE: 0.0008197937174523237\n"
          ]
        },
        {
          "output_type": "display_data",
          "data": {
            "image/png": "[encoded data removed]",
            "text/plain": [
              "<Figure size 432x288 with 1 Axes>"
            ]
          },
          "metadata": {
            "needs_background": "light"
          }
        }
      ]
    },
    {
      "cell_type": "markdown",
      "metadata": {
        "id": "tW1lsmYQgnmI"
      },
      "source": [
        "**Ridge**\n",
        "* PROS: The two main pros of Ridge regression are that when the tuning parameter lambda increases, it causes the coefficients to tend toward zero. This results in a low variance and a low bias, as some coefficients will have negligible effects on the predicting variable (variance) and minimizing the coefficients reduces dependency on the predicting variable (bias). \n",
        "\n",
        "* CONS : The main con for Ridge regression is not ideal for feature reduction. Instead of reducing the number of variables in our model, it will only minimize their values.\n",
        "\n",
        "**Lasso**\n",
        "* PROS: Similar to Ridge, the two main pros of Lasso regression are its low variance and low bias as it will force coefficients to absolute zero (ridge will only reduce the size of the coefficients).  \n",
        "\n",
        "* CONS: The main cons for Lasso regression are when A) the number of predictors is greater than the number of observations, Lasso will pick at most N number of predictors or B) there is collinearity present amongst variables, Lasso will select one of them randomly, which is not ideal for interpretation.\n",
        "\n",
        "**EslasticNet**\n",
        "* PRO: When a model’s predictive variable is highly dependent on a particular variable, ElasticNet combines the regularization from both Ridge and Lasso.   \n",
        "\n",
        "* CON: The main con for ElasticNet Regression is that it does not eliminate the highly dependent/collinear variable.\n"
      ]
    },
    {
      "cell_type": "markdown",
      "metadata": {
        "id": "qwcOCOA6YxiJ"
      },
      "source": [
        "#Part 6"
      ]
    },
    {
      "cell_type": "markdown",
      "metadata": {
        "id": "uPYlRdo0ZgZA"
      },
      "source": [
        "#### Linear Regression **WITHOUT** Regualization"
      ]
    },
    {
      "cell_type": "markdown",
      "metadata": {
        "id": "EJY4g5sn7GqT"
      },
      "source": [
        "#### linear regression without regularization (1pts)"
      ]
    },
    {
      "cell_type": "code",
      "metadata": {
        "id": "VUqipuBzY_dK"
      },
      "source": [
        "import numpy as np\n",
        "from sklearn.linear_model import LinearRegression"
      ],
      "execution_count": null,
      "outputs": []
    },
    {
      "cell_type": "code",
      "metadata": {
        "colab": {
          "base_uri": "https://localhost:8080/"
        },
        "id": "utyp5kXrYyEc",
        "outputId": "539990c3-f9a9-4f75-e1aa-16153d036bf4"
      },
      "source": [
        "reg = LinearRegression().fit(X_train, Y_train)\n",
        "reg.coef_"
      ],
      "execution_count": null,
      "outputs": [
        {
          "output_type": "execute_result",
          "data": {
            "text/plain": [
              "array([0.0252715 , 0.01431774, 0.00305373, 0.00072951, 0.02133006,\n",
              "       0.07573555, 0.00686496])"
            ]
          },
          "metadata": {},
          "execution_count": 35
        }
      ]
    },
    {
      "cell_type": "code",
      "metadata": {
        "colab": {
          "base_uri": "https://localhost:8080/"
        },
        "id": "GZyCIBHUYv1M",
        "outputId": "39a9474c-de63-4a76-90b9-aacb7611f573"
      },
      "source": [
        "from sklearn.metrics import r2_score\n",
        "reg = LinearRegression()\n",
        "reg.fit(X_train, Y_train)\n",
        "\n",
        "pred_train_lr= reg.predict(X_train)\n",
        "print('MSE of the train set: ',mean_squared_error(Y_train,pred_train_lr))\n",
        "print('R-squared of the train set: ',r2_score(Y_train, pred_train_lr))\n",
        "\n",
        "pred_test_lr= reg.predict(X_test)\n",
        "print('MSE of the test set: ',mean_squared_error(Y_test,pred_test_lr))\n",
        "print('R-squared of the test set: ',r2_score(Y_test, pred_test_lr))"
      ],
      "execution_count": null,
      "outputs": [
        {
          "output_type": "stream",
          "name": "stdout",
          "text": [
            "MSE of the train set:  0.0038570690453814307\n",
            "R-squared of the train set:  0.8193370700006861\n",
            "MSE of the test set:  0.005200215496311303\n",
            "R-squared of the test set:  0.6910288907914797\n"
          ]
        }
      ]
    },
    {
      "cell_type": "markdown",
      "metadata": {
        "id": "9V4EAuL7Zunj"
      },
      "source": [
        "#### Ridge Regression **WITH** Regularization"
      ]
    },
    {
      "cell_type": "markdown",
      "metadata": {
        "id": "EC7b4gxU7MDY"
      },
      "source": [
        "#### linear regression with ridge regularization (2pts)"
      ]
    },
    {
      "cell_type": "code",
      "metadata": {
        "colab": {
          "base_uri": "https://localhost:8080/"
        },
        "id": "bjZPqsEOZxzG",
        "outputId": "570bac0b-dc69-4c89-d8e9-9aadbc97e3cf"
      },
      "source": [
        "from sklearn.metrics import r2_score\n",
        "from sklearn.linear_model import Ridge\n",
        "ridge = Ridge(alpha=0.01)\n",
        "ridge.fit(X_train, Y_train) \n",
        "pred_train_ridge= ridge.predict(X_train)\n",
        "print('MSE of the train set: ',mean_squared_error(Y_train,pred_train_ridge))\n",
        "print('R-squared of the train set: ',r2_score(Y_train, pred_train_ridge))\n",
        "\n",
        "pred_test_ridge= ridge.predict(X_test)\n",
        "print('MSE of the test set: ',mean_squared_error(Y_test,pred_test_ridge)) \n",
        "print('R-squared of the test set: ',r2_score(Y_test, pred_test_ridge))"
      ],
      "execution_count": null,
      "outputs": [
        {
          "output_type": "stream",
          "name": "stdout",
          "text": [
            "MSE of the train set:  0.0038570690675495366\n",
            "R-squared of the train set:  0.8193370689623445\n",
            "MSE of the test set:  0.00520008316536916\n",
            "R-squared of the test set:  0.6910367532421811\n"
          ]
        }
      ]
    },
    {
      "cell_type": "markdown",
      "metadata": {
        "id": "QQ27HcfRZw75"
      },
      "source": [
        "#### Lasso Regression **WITH** Regularization"
      ]
    },
    {
      "cell_type": "markdown",
      "metadata": {
        "id": "63BTb4YZ7PAo"
      },
      "source": [
        " #### linear regression with lasso regularization (2pts)"
      ]
    },
    {
      "cell_type": "code",
      "metadata": {
        "colab": {
          "base_uri": "https://localhost:8080/"
        },
        "id": "4jhI14xLZjA9",
        "outputId": "d4a269f5-5232-4f93-b9da-dc6a562fc4aa"
      },
      "source": [
        "from sklearn.linear_model import Lasso\n",
        "model_lasso = Lasso(alpha=0.01)\n",
        "model_lasso.fit(X_train, Y_train) \n",
        "pred_train_lasso= model_lasso.predict(X_train)\n",
        "print('MSE of the train set: ',np.sqrt(mean_squared_error(Y_train,pred_train_lasso)))\n",
        "print('R-squared of the train set: ',r2_score(Y_train, pred_train_lasso))\n",
        "\n",
        "pred_test_lasso= model_lasso.predict(X_test)\n",
        "print('MSE of the test set: ',np.sqrt(mean_squared_error(Y_test,pred_test_lasso))) \n",
        "print('R-squared of the test set: ',r2_score(Y_test, pred_test_lasso))"
      ],
      "execution_count": null,
      "outputs": [
        {
          "output_type": "stream",
          "name": "stdout",
          "text": [
            "MSE of the train set:  0.06335953771026617\n",
            "R-squared of the train set:  0.811966324270088\n",
            "MSE of the test set:  0.07119222093168762\n",
            "R-squared of the test set:  0.6988647373892298\n"
          ]
        }
      ]
    },
    {
      "cell_type": "code",
      "metadata": {
        "id": "JACy5jjpOo74"
      },
      "source": [
        "re you "
      ],
      "execution_count": null,
      "outputs": []
    },
    {
      "cell_type": "markdown",
      "metadata": {
        "id": "hVpfY3rKbzAw"
      },
      "source": [
        "## **This is the best result from the test which is from the lasso**"
      ]
    },
    {
      "cell_type": "markdown",
      "metadata": {
        "id": "2wVGCzdn7TrD"
      },
      "source": [
        "#### For part (b) and (c), use only the best regularization parameters. Report the MSE and R2 on the test data for each model."
      ]
    },
    {
      "cell_type": "code",
      "metadata": {
        "colab": {
          "base_uri": "https://localhost:8080/"
        },
        "id": "CGcm7wFibq1K",
        "outputId": "616abd67-8002-46da-987a-0abcf1704f47"
      },
      "source": [
        "print('MSE of the test set: ',np.sqrt(mean_squared_error(Y_test,pred_test_lasso))) \n",
        "print('R-squared of the test set: ',r2_score(Y_test, pred_test_lasso))"
      ],
      "execution_count": null,
      "outputs": [
        {
          "output_type": "stream",
          "name": "stdout",
          "text": [
            "MSE of the test set:  0.07119222093168762\n",
            "R-squared of the test set:  0.6988647373892298\n"
          ]
        }
      ]
    },
    {
      "cell_type": "markdown",
      "metadata": {
        "id": "eJHlPRBD2dig"
      },
      "source": [
        "# Part 7)"
      ]
    },
    {
      "cell_type": "markdown",
      "metadata": {
        "id": "VhEnOiaD7ZVd"
      },
      "source": [
        "#### Train the 3 models and report the metrics with the original data without scaling (3pts)."
      ]
    },
    {
      "cell_type": "code",
      "metadata": {
        "id": "AAQuw-TO2iEH"
      },
      "source": [
        "# No Scaling Step\n",
        "X_train, X_test, Y_train, Y_test = train_test_split(X, y, test_size = 0.25, random_state=50)"
      ],
      "execution_count": null,
      "outputs": []
    },
    {
      "cell_type": "markdown",
      "metadata": {
        "id": "JwJ_Zl1Y3RgP"
      },
      "source": [
        "# Part 7A: RIDGE MODEL"
      ]
    },
    {
      "cell_type": "code",
      "metadata": {
        "colab": {
          "base_uri": "https://localhost:8080/"
        },
        "id": "BAaBfpGK3RgQ",
        "outputId": "4273ff4d-1d2e-4398-a5ae-30354bbc40e3"
      },
      "source": [
        "MSE = []\n",
        "MAE = []\n",
        "\n",
        "mse = 0\n",
        "mae = 0\n",
        "\n",
        "\n",
        "for a in alpha:\n",
        "\n",
        "    for train_index, test_index in kf.split(X_train):\n",
        "        \n",
        "        x_train, x_test = X_train[train_index], X_train[test_index]\n",
        "        y_train, y_test = Y_train[train_index], Y_train[test_index]\n",
        "\n",
        "        ridge = linear_model.Ridge(alpha = a)\n",
        "        ridge = ridge.fit(x_train, y_train)\n",
        "        \n",
        "        mse += mean_squared_error(y_test, ridge.predict(x_test))\n",
        "        mae += mean_absolute_error(y_test, ridge.predict(x_test))\n",
        "        \n",
        "    mse = mse/5\n",
        "    mae = mse/5\n",
        "\n",
        "    MSE.append(mse)\n",
        "    MAE.append(mae)\n",
        "    \n",
        "    mse = 0\n",
        "    mae = 0\n",
        "\n",
        "print('MSE:', min(MSE))\n",
        "print('MAE:', min(MAE))"
      ],
      "execution_count": null,
      "outputs": [
        {
          "output_type": "stream",
          "name": "stdout",
          "text": [
            "MSE: 0.004123596074823915\n",
            "MAE: 0.000824719214964783\n"
          ]
        }
      ]
    },
    {
      "cell_type": "code",
      "metadata": {
        "colab": {
          "base_uri": "https://localhost:8080/"
        },
        "id": "qHLl1WTT3RgR",
        "outputId": "b18915df-aaab-4244-d133-57eece7fa1d5"
      },
      "source": [
        "min_value = min(MSE)\n",
        "min_index = MSE.index(min_value)\n",
        "min_index"
      ],
      "execution_count": null,
      "outputs": [
        {
          "output_type": "execute_result",
          "data": {
            "text/plain": [
              "52"
            ]
          },
          "metadata": {},
          "execution_count": 48
        }
      ]
    },
    {
      "cell_type": "code",
      "metadata": {
        "colab": {
          "base_uri": "https://localhost:8080/"
        },
        "id": "ha6e_ZHk3RgS",
        "outputId": "fa69f213-47be-4493-f01a-b0240f3e8c93"
      },
      "source": [
        "MSE[min_index] # min MSE"
      ],
      "execution_count": null,
      "outputs": [
        {
          "output_type": "execute_result",
          "data": {
            "text/plain": [
              "0.004123596074823915"
            ]
          },
          "metadata": {},
          "execution_count": 49
        }
      ]
    },
    {
      "cell_type": "code",
      "metadata": {
        "colab": {
          "base_uri": "https://localhost:8080/"
        },
        "id": "P0wif1k-3RgS",
        "outputId": "bb1a83bb-f691-40a6-bd4a-042ae663ebf7"
      },
      "source": [
        "alpha[min_index] # best alpha according the Kfold CV using MSE"
      ],
      "execution_count": null,
      "outputs": [
        {
          "output_type": "execute_result",
          "data": {
            "text/plain": [
              "0.49770235643321137"
            ]
          },
          "metadata": {},
          "execution_count": 50
        }
      ]
    },
    {
      "cell_type": "code",
      "metadata": {
        "colab": {
          "base_uri": "https://localhost:8080/"
        },
        "id": "LrLHNm1H3RgT",
        "outputId": "4a390900-8ece-4e28-b871-3e7f882a26f5"
      },
      "source": [
        "min_value = min(MAE)\n",
        "min_index = MAE.index(min_value)\n",
        "min_index"
      ],
      "execution_count": null,
      "outputs": [
        {
          "output_type": "execute_result",
          "data": {
            "text/plain": [
              "52"
            ]
          },
          "metadata": {},
          "execution_count": 51
        }
      ]
    },
    {
      "cell_type": "code",
      "metadata": {
        "colab": {
          "base_uri": "https://localhost:8080/"
        },
        "id": "AR8LTRbL3RgT",
        "outputId": "ff96a162-954f-4639-f924-b38073b8eb78"
      },
      "source": [
        "MAE[min_index]"
      ],
      "execution_count": null,
      "outputs": [
        {
          "output_type": "execute_result",
          "data": {
            "text/plain": [
              "0.000824719214964783"
            ]
          },
          "metadata": {},
          "execution_count": 52
        }
      ]
    },
    {
      "cell_type": "code",
      "metadata": {
        "colab": {
          "base_uri": "https://localhost:8080/"
        },
        "id": "yTRS9-mC3RgU",
        "outputId": "0201882e-5f12-41fd-aeff-ababb1099936"
      },
      "source": [
        "alpha[min_index]"
      ],
      "execution_count": null,
      "outputs": [
        {
          "output_type": "execute_result",
          "data": {
            "text/plain": [
              "0.49770235643321137"
            ]
          },
          "metadata": {},
          "execution_count": 53
        }
      ]
    },
    {
      "cell_type": "markdown",
      "metadata": {
        "id": "cQJKpKo_3RgU"
      },
      "source": [
        "# Part 7B: LASSO MODEL"
      ]
    },
    {
      "cell_type": "code",
      "metadata": {
        "colab": {
          "base_uri": "https://localhost:8080/"
        },
        "id": "FQQ7IsDV3RgV",
        "outputId": "4ec11d7e-98b0-4ad2-ac90-4b7a944dbdb6"
      },
      "source": [
        "MSE = []\n",
        "MAE = []\n",
        "\n",
        "mse = 0\n",
        "mae = 0\n",
        "\n",
        "\n",
        "for a in alpha:\n",
        "\n",
        "    for train_index, test_index in kf.split(X_train):\n",
        "        \n",
        "        x_train, x_test = X_train[train_index], X_train[test_index]\n",
        "        y_train, y_test = Y_train[train_index], Y_train[test_index]\n",
        "\n",
        "        lasso = linear_model.Lasso(alpha = a)\n",
        "        lasso = lasso.fit(x_train, y_train)\n",
        "        \n",
        "        mse += mean_squared_error(y_test, lasso.predict(x_test))\n",
        "        mae += mean_absolute_error(y_test, lasso.predict(x_test))\n",
        "        \n",
        "    mse = mse/5\n",
        "    mae = mse/5\n",
        "\n",
        "    MSE.append(mse)\n",
        "    MAE.append(mae)\n",
        "    \n",
        "    mse = 0\n",
        "    mae = 0\n",
        "\n",
        "print('MSE:', min(MSE))\n",
        "print('MAE:', min(MAE))"
      ],
      "execution_count": null,
      "outputs": [
        {
          "output_type": "stream",
          "name": "stdout",
          "text": [
            "MSE: 0.004114762849512674\n",
            "MAE: 0.0008229525699025347\n"
          ]
        }
      ]
    },
    {
      "cell_type": "code",
      "metadata": {
        "colab": {
          "base_uri": "https://localhost:8080/"
        },
        "id": "mIn2jjPz3RgV",
        "outputId": "aa4a45fa-158e-4566-c093-d8dff8331e3a"
      },
      "source": [
        "min_value = min(MSE)\n",
        "min_index = MSE.index(min_value)\n",
        "min_index"
      ],
      "execution_count": null,
      "outputs": [
        {
          "output_type": "execute_result",
          "data": {
            "text/plain": [
              "76"
            ]
          },
          "metadata": {},
          "execution_count": 55
        }
      ]
    },
    {
      "cell_type": "code",
      "metadata": {
        "colab": {
          "base_uri": "https://localhost:8080/"
        },
        "id": "ensR3jEn3RgW",
        "outputId": "eaf98f70-61e7-4d0c-ab15-c6556c4570cb"
      },
      "source": [
        "MSE[min_index] # min MSE"
      ],
      "execution_count": null,
      "outputs": [
        {
          "output_type": "execute_result",
          "data": {
            "text/plain": [
              "0.004114762849512674"
            ]
          },
          "metadata": {},
          "execution_count": 56
        }
      ]
    },
    {
      "cell_type": "code",
      "metadata": {
        "colab": {
          "base_uri": "https://localhost:8080/"
        },
        "id": "1XqlAx6E3Rga",
        "outputId": "b98e60d1-9c89-4bef-ff22-217f1758aaf5"
      },
      "source": [
        "alpha[min_index]"
      ],
      "execution_count": null,
      "outputs": [
        {
          "output_type": "execute_result",
          "data": {
            "text/plain": [
              "0.0006135907273413163"
            ]
          },
          "metadata": {},
          "execution_count": 57
        }
      ]
    },
    {
      "cell_type": "code",
      "metadata": {
        "colab": {
          "base_uri": "https://localhost:8080/"
        },
        "id": "0D-FIh-C3Rgb",
        "outputId": "c7db463c-76cc-477b-8280-a260d81973de"
      },
      "source": [
        "min_value = min(MAE)\n",
        "min_index = MAE.index(min_value)\n",
        "min_index"
      ],
      "execution_count": null,
      "outputs": [
        {
          "output_type": "execute_result",
          "data": {
            "text/plain": [
              "76"
            ]
          },
          "metadata": {},
          "execution_count": 58
        }
      ]
    },
    {
      "cell_type": "code",
      "metadata": {
        "colab": {
          "base_uri": "https://localhost:8080/"
        },
        "id": "KELKnAMA3Rgc",
        "outputId": "335d4dd0-6058-4363-e4ce-0ab4356c6f0f"
      },
      "source": [
        "MAE[min_index]"
      ],
      "execution_count": null,
      "outputs": [
        {
          "output_type": "execute_result",
          "data": {
            "text/plain": [
              "0.0008229525699025347"
            ]
          },
          "metadata": {},
          "execution_count": 59
        }
      ]
    },
    {
      "cell_type": "code",
      "metadata": {
        "colab": {
          "base_uri": "https://localhost:8080/"
        },
        "id": "AaaSa1kU3Rgc",
        "outputId": "7e676df9-ea3e-4603-e6b2-07f951ed95a5"
      },
      "source": [
        "alpha[min_index]"
      ],
      "execution_count": null,
      "outputs": [
        {
          "output_type": "execute_result",
          "data": {
            "text/plain": [
              "0.0006135907273413163"
            ]
          },
          "metadata": {},
          "execution_count": 60
        }
      ]
    },
    {
      "cell_type": "markdown",
      "metadata": {
        "id": "Kg7ylruZ3lh7"
      },
      "source": [
        "# Part 7C: ELASTICNET MODEL"
      ]
    },
    {
      "cell_type": "code",
      "metadata": {
        "colab": {
          "base_uri": "https://localhost:8080/"
        },
        "id": "WCR6AZs33lh8",
        "outputId": "47dc907b-28ea-479b-9b1a-7d34b2fd14a0"
      },
      "source": [
        "# #############################################################################\n",
        "# ELASTICNET MODEL\n",
        "MSE = []\n",
        "MAE = []\n",
        "\n",
        "mse = 0\n",
        "mae = 0\n",
        "\n",
        "\n",
        "for a in alpha:\n",
        "\n",
        "    for train_index, test_index in kf.split(X_train):\n",
        "        \n",
        "        x_train, x_test = X_train[train_index], X_train[test_index]\n",
        "        y_train, y_test = Y_train[train_index], Y_train[test_index]\n",
        "\n",
        "        EN = linear_model.ElasticNet(alpha = a)\n",
        "        EN = EN.fit(x_train, y_train)\n",
        "        \n",
        "        mse += mean_squared_error(y_test, EN.predict(x_test))\n",
        "        mae += mean_absolute_error(y_test, EN.predict(x_test))\n",
        "        \n",
        "    mse = mse/5\n",
        "    mae = mse/5\n",
        "\n",
        "    MSE.append(mse)\n",
        "    MAE.append(mae)\n",
        "    \n",
        "    mse = 0\n",
        "    mae = 0\n",
        "\n",
        "print('MSE:', min(MSE))\n",
        "print('MAE:', min(MAE))"
      ],
      "execution_count": null,
      "outputs": [
        {
          "output_type": "stream",
          "name": "stdout",
          "text": [
            "MSE: 0.004115711453677735\n",
            "MAE: 0.0008231422907355471\n"
          ]
        }
      ]
    },
    {
      "cell_type": "code",
      "metadata": {
        "colab": {
          "base_uri": "https://localhost:8080/"
        },
        "id": "eAEu4lgi7hMa",
        "outputId": "ffea2e05-5356-47ef-f710-c203cd079994"
      },
      "source": [
        "min_value = min(MSE)\n",
        "min_index = MSE.index(min_value)\n",
        "min_index"
      ],
      "execution_count": null,
      "outputs": [
        {
          "output_type": "execute_result",
          "data": {
            "text/plain": [
              "74"
            ]
          },
          "metadata": {},
          "execution_count": 62
        }
      ]
    },
    {
      "cell_type": "code",
      "metadata": {
        "colab": {
          "base_uri": "https://localhost:8080/"
        },
        "id": "5lzZqZng7hFT",
        "outputId": "15c87cf5-bf3e-4efa-fea0-d730e84dcdca"
      },
      "source": [
        "MSE[min_index]"
      ],
      "execution_count": null,
      "outputs": [
        {
          "output_type": "execute_result",
          "data": {
            "text/plain": [
              "0.004115711453677735"
            ]
          },
          "metadata": {},
          "execution_count": 63
        }
      ]
    },
    {
      "cell_type": "code",
      "metadata": {
        "colab": {
          "base_uri": "https://localhost:8080/"
        },
        "id": "joSS_njw7g92",
        "outputId": "a79208c4-cf5b-4eb9-faa6-cc2974bcb1e6"
      },
      "source": [
        "alpha[min_index]"
      ],
      "execution_count": null,
      "outputs": [
        {
          "output_type": "execute_result",
          "data": {
            "text/plain": [
              "0.001072267222010321"
            ]
          },
          "metadata": {},
          "execution_count": 64
        }
      ]
    },
    {
      "cell_type": "code",
      "metadata": {
        "colab": {
          "base_uri": "https://localhost:8080/"
        },
        "id": "Vy2hVxs87g2E",
        "outputId": "47848cc8-a96d-4e25-ce29-24cf3f71afbd"
      },
      "source": [
        "min_value = min(MAE)\n",
        "min_index = MAE.index(min_value)\n",
        "min_index"
      ],
      "execution_count": null,
      "outputs": [
        {
          "output_type": "execute_result",
          "data": {
            "text/plain": [
              "74"
            ]
          },
          "metadata": {},
          "execution_count": 65
        }
      ]
    },
    {
      "cell_type": "code",
      "metadata": {
        "colab": {
          "base_uri": "https://localhost:8080/"
        },
        "id": "z90XjlVs7gu4",
        "outputId": "dd61159b-dc31-48be-8827-ac3228ffa630"
      },
      "source": [
        "MAE[min_index]"
      ],
      "execution_count": null,
      "outputs": [
        {
          "output_type": "execute_result",
          "data": {
            "text/plain": [
              "0.0008231422907355471"
            ]
          },
          "metadata": {},
          "execution_count": 66
        }
      ]
    },
    {
      "cell_type": "code",
      "metadata": {
        "colab": {
          "base_uri": "https://localhost:8080/"
        },
        "id": "_RsmCnnX7goU",
        "outputId": "48c7b154-31b2-44fe-876c-f623b37a0a26"
      },
      "source": [
        "alpha[min_index]"
      ],
      "execution_count": null,
      "outputs": [
        {
          "output_type": "execute_result",
          "data": {
            "text/plain": [
              "0.001072267222010321"
            ]
          },
          "metadata": {},
          "execution_count": 67
        }
      ]
    },
    {
      "cell_type": "markdown",
      "metadata": {
        "id": "QluZKBcd7df8"
      },
      "source": [
        "#### Why do we need to scale the data before regularization (2pts)?"
      ]
    },
    {
      "cell_type": "markdown",
      "metadata": {
        "id": "TcvybtIJ7wkg"
      },
      "source": [
        "In this example the scaled models do not preform better than those that are not skilled. This is not the norm. Traditionally the best practice is to scale your data for a couple reasons. One is if you have data at much different scales, for example comparing admission with ACT vs SAT, when you compare a number that is somewhere arounf 30 with one around 1500 the the weights would make it hard to judge the two relitive variables. This allows the regulirizatoin to see what is actually an outlier and not just a variable measured at smaller incriments. "
      ]
    }
  ]
}